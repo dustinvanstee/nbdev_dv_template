{
 "cells": [
  {
   "cell_type": "code",
   "execution_count": null,
   "metadata": {},
   "outputs": [],
   "source": [
    "# default_exp main_notebook"
   ]
  },
  {
   "cell_type": "markdown",
   "metadata": {},
   "source": [
    "# option_cuda\n",
    "\n",
    "> Subclass of option_base.  Python implementation of monte carlo path dependendent walk for European options.\n",
    "\n",
    "This Notebook also shows how you can compile "
   ]
  },
  {
   "cell_type": "code",
   "execution_count": 1,
   "metadata": {},
   "outputs": [],
   "source": [
    "#hide\n",
    "from nbdev.showdoc import *\n",
    "def generate_python():\n",
    "    from nbdev.export import notebook2script; notebook2script()\n",
    "    \n",
    "%load_ext autoreload\n",
    "%autoreload 2"
   ]
  },
  {
   "cell_type": "code",
   "execution_count": 1,
   "metadata": {},
   "outputs": [
    {
     "data": {
      "text/html": [
       "        <script type=\"text/javascript\">\n",
       "        window.PlotlyConfig = {MathJaxConfig: 'local'};\n",
       "        if (window.MathJax) {MathJax.Hub.Config({SVG: {font: \"STIX-Web\"}});}\n",
       "        if (typeof require !== 'undefined') {\n",
       "        require.undef(\"plotly\");\n",
       "        requirejs.config({\n",
       "            paths: {\n",
       "                'plotly': ['https://cdn.plot.ly/plotly-latest.min']\n",
       "            }\n",
       "        });\n",
       "        require(['plotly'], function(Plotly) {\n",
       "            window._Plotly = Plotly;\n",
       "        });\n",
       "        }\n",
       "        </script>\n",
       "        "
      ]
     },
     "metadata": {},
     "output_type": "display_data"
    }
   ],
   "source": [
    "#export\n",
    "import my_python_code.library_notebook as funcs\n"
   ]
  },
  {
   "cell_type": "markdown",
   "metadata": {},
   "source": [
    "# Compile CUDA Kernel"
   ]
  },
  {
   "cell_type": "code",
   "execution_count": 2,
   "metadata": {},
   "outputs": [
    {
     "name": "stdout",
     "output_type": "stream",
     "text": [
      "/home/dvanstee/projects/2021-03-montecarlo/nbs\n",
      "../c_code/mc_option_v2_cachingload.cu(186): warning: argument is incompatible with corresponding format string conversion\n",
      "\n",
      "../c_code/mc_option_v2_cachingload.cu(186): warning: argument is incompatible with corresponding format string conversion\n",
      "\n",
      "000000000005ca7c T _fini\n",
      "0000000000007650 T _init\n",
      "0000000000009859 T main\n",
      "0000000000008f96 T run_monte_carlo_cuda\n",
      "0000000000008eef T set_device(_McSettings)\n",
      "00000000000087dd T print_tsrow(int, _McSettings, float*)\n",
      "0000000000008452 T check_curand(int)\n",
      "0000000000009de2 T apply_strike_k(_McSettings, float*)\n",
      "00000000000084e7 T print_settings(_McSettings)\n",
      "0000000000008416 T check_cuda_call(int)\n",
      "0000000000008a7c T init_gpu_memory(_McSettings, float**, float**, _McOption*)\n",
      "0000000000009f51 T price_options_k(_McSettings, float*, _McOption)\n",
      "0000000000009c8c T monte_carlo_rw_k(_McSettings, float*, float*)\n",
      "0000000000008d8d T gpu_memory_cleanup(float*, float*)\n",
      "0000000000008a3a T calculate_walk_step(_McSettings, float, float)\n",
      "00000000000088f2 T print_some_results2(_McSettings, float*, char const*)\n",
      "0000000000008732 T print_option_results(_McSettings, _McOption)\n",
      "0000000000009cb3 T __device_stub__Z14apply_strike_k11_McSettingsPf(_McSettings&, float*)\n",
      "0000000000009b47 T __device_stub__Z16monte_carlo_rw_k11_McSettingsPfS0_(_McSettings&, float*, float*)\n",
      "0000000000009e01 T __device_stub__Z15price_options_k11_McSettingsPf9_McOption(_McSettings&, float*, _McOption&)\n",
      "0000000000009809 T usage(char*, int)\n",
      "0000000000008a5d T get_idx(_McSettings, int, int)\n",
      "0000000000008eb2 T get_time()\n",
      "00000000000084e0 T cfg_check(_McSettings)\n",
      "000000000000848e T check_mem()\n",
      "-rwxr-xr-x 1 dvanstee nvidia 721552 Jun 21 19:43 mc_option.so\n"
     ]
    }
   ],
   "source": [
    "# Compile if i needit\n",
    "\n",
    "# Build both shared object and also executable.\n",
    "def compile():\n",
    "    !module load cuda; nvcc ../c_code/mc_option_v2_cachingload.cu -o mc_option_v2_cachingload.so -shared -Xcompiler -fPIC -lcurand \n",
    "    !module load cuda; nvcc ../c_code/mc_option.cu -o mc_option.so -shared -Xcompiler -fPIC -lcurand \n",
    "    !nvcc -o mc_option  ../c_code/mc_option.cu -lcurand 2> /dev/null\n",
    "    # Print out the symbol table.  Useful for debugging ...\n",
    "    !nm -CD mc_option.so | grep \" T \"\n",
    "!pwd\n",
    "compile()\n",
    "!ls -lart mc_option.so"
   ]
  },
  {
   "cell_type": "code",
   "execution_count": 3,
   "metadata": {},
   "outputs": [
    {
     "name": "stdout",
     "output_type": "stream",
     "text": [
      "/home/dvanstee/projects/2021-03-montecarlo/nbs\n",
      "Overriding num_trialsOverriding time_stepsVerbose mode\n",
      "\n",
      "\n",
      "////PASS 1 //////\n",
      "[set_device] : GPU Device 0: \"Tesla V100S-PCIE-32GB\" with compute capability 7.0\n",
      "[set_device] : GPU Device = 0\n",
      "\n",
      "[print_settings]:\n",
      " num_trials 1000000 \n",
      " time_steps 1000 \n",
      " block_size 1024 \n",
      " mu         0.000100 \n",
      " sigma      0.020000 \n",
      " initial_price 100.000000 \n",
      " strike     95.000000 \n",
      " rfr        0.010000 \n",
      " RNG seed   5 \n",
      " MC mode    0 (0=price,1=option)\n",
      " GPU Device 0 \n",
      " Verbose    1 \n",
      "\n",
      "Projected CUDA Allocations\n",
      " Total Threads 1000000 \n",
      " Total Thread Blocks 977 \n",
      " Threads/Block 1024 \n",
      " CUDA Memory Footprint (rough) 2^29 * 4B\n",
      "[run_monte_carlo_cuda] : /************* INIT MEMORY *****************\n",
      "[run_monte_carlo_cuda] : /************* Returning Price Paths *****************\n",
      "[run_monte_carlo_cuda] : /************* RUN MC PATHS *****************\n",
      "[run_monte_carlo_cuda] : /************* RUN MC Pricing *****************\n",
      "[run_monte_carlo_cuda] : ***** Runtime RNG/InitAry    0.250989 (s) *****\n",
      "[run_monte_carlo_cuda] : ***** Runtime Kernel-MC      0.011224 (s) *****\n",
      "[run_monte_carlo_cuda] : ***** Runtime Knl_AppStr     0.000004 (s) *****\n",
      "[run_monte_carlo_cuda] : ***** Runtime Knl_PriceOpt   0.000000 (s) *****\n",
      "[run_monte_carlo_cuda] : ***** Runtime Memcpy Opt DtH 1.202693 (s) *****\n",
      "\n",
      "\n",
      "[run_monte_carlo_cuda]: Monte Carlo Completed - MC trial ARy:Array dump  ... ...\n",
      "rows(timesteps:1000) cols(trials:1000000)\n",
      "\n",
      "Tstep[0] Cells 0:5  ... 999995:999999 \n",
      "5row 0     000000:1000000 | 1.000 1.000 1.000 1.000 1.000 ...1.000 1.000 1.000 1.000 1.000 \n",
      "5row 1     1000000:2000000 | 0.995 0.960 0.968 0.992 0.999 ...1.021 0.971 1.005 1.024 0.984 \n",
      "5row 2     2000000:3000000 | 0.994 0.965 0.973 0.970 0.966 ...1.045 0.992 0.975 1.007 0.979 \n",
      "5row 998   998000000:999000000 | 0.435 1.032 1.214 1.089 0.619 ...1.074 1.385 0.561 0.753 0.465 \n",
      "5row 999   999000000:1000000000 | 0.437 1.076 1.240 1.137 0.629 ...1.094 1.358 0.546 0.750 0.468 \n",
      "[main] : ***** MC COMPLETE *****\n"
     ]
    }
   ],
   "source": [
    "# !./mc_option -h ----->>>>>  mc_option [-v] [-n num_trials] [-t time_steps] [-h]\n",
    "!pwd\n",
    "!./mc_option -n 1000000 -t 1000 -v\n"
   ]
  },
  {
   "cell_type": "code",
   "execution_count": 4,
   "metadata": {},
   "outputs": [],
   "source": [
    "#export\n",
    "class _McSettings(ctypes.Structure):\n",
    "    _fields_ = [('num_trials', ctypes.c_int),\n",
    "                ('time_steps', ctypes.c_int),\n",
    "                ('block_size', ctypes.c_int),\n",
    "                ('mu', ctypes.c_float),\n",
    "                ('sigma', ctypes.c_float),\n",
    "                ('initial_price', ctypes.c_float),\n",
    "                ('strike', ctypes.c_float),\n",
    "                ('rfr', ctypes.c_float),\n",
    "                ('verbose', ctypes.c_bool),\n",
    "                ('seed', ctypes.c_int),\n",
    "                ]\n",
    "\n",
    "\n",
    "class OptionCuda(OptionBase):\n",
    "    \"\"\"\n",
    "    Limitations : Different from pure python version.  I don't pass back all trials from device to host\n",
    "      as thats inefficient and only used for random walk visuals.\n",
    "    \"\"\"\n",
    "\n",
    "    # Required to access CUDA Kernel data structures\n",
    "\n",
    "    def __init__(self, block_size=1024, **kwargs):\n",
    "        super().__init__(**kwargs)\n",
    "        self.block_size = block_size\n",
    "        self.mode = \"cuda\"\n",
    "        self.device = 0\n",
    "        self.mc_so_path = \"/home/dvanstee/projects/2021-03-montecarlo/nbs/mc_option.so\"\n",
    "        self.cfg = _McSettings(\n",
    "            num_trials=self.num_trials,\n",
    "            time_steps=self.time_steps,\n",
    "            block_size=self.block_size,\n",
    "            mu=self.mu,\n",
    "            sigma=self.sigma,\n",
    "            initial_price=self.initial_price,\n",
    "            strike=self.strike,\n",
    "            rfr=self.rfr,\n",
    "            verbose=self.verbose,\n",
    "            seed=self.seed)\n",
    "\n",
    "    def print_mcSettings(self):\n",
    "        for k, v in self.cfg._fields_:\n",
    "            print(\"{:10s} {}\".format(k, self.cfg.__getattribute__(k)))\n",
    "\n",
    "    def run_monte_carlo(self, mc_mode: str = \"options\"):\n",
    "        \"\"\"\n",
    "        Only mc_mode = options supported.\n",
    "        \"\"\"\n",
    "        assert mc_mode == \"options\" or mc_mode == \"prices\"\n",
    "        rv_tuple = (None, None)\n",
    "        MonteCarlo = ctypes.cdll.LoadLibrary(self.mc_so_path)\n",
    "        if mc_mode == \"options\":\n",
    "            MonteCarlo.run_monte_carlo_cuda.restype = ndpointer(dtype=ctypes.c_float, shape=(2 * self.cfg.time_steps))\n",
    "            mc_call_put_cuda = MonteCarlo.run_monte_carlo_cuda(self.cfg, mc_mode)\n",
    "            call_option_prices = mc_call_put_cuda[0:self.cfg.time_steps]\n",
    "            put_option_prices = mc_call_put_cuda[self.cfg.time_steps:2 * self.cfg.time_steps]\n",
    "            rv_tuple = (call_option_prices, put_option_prices)\n",
    "        else:\n",
    "            MonteCarlo.run_monte_carlo_cuda.restype = ndpointer(dtype=ctypes.c_float,\n",
    "                                                                shape=(self.cfg.time_steps * self.cfg.num_trials))\n",
    "            mc_call_put_cuda = MonteCarlo.run_monte_carlo_cuda(self.cfg, mc_mode)\n",
    "            rv_tuple = (mc_call_put_cuda, None)  # just price paths...\n",
    "\n",
    "        return rv_tuple\n",
    "\n",
    "    def get_option_expectation(self):\n",
    "        \"\"\"\n",
    "        implicit_input : monte_carlo price paths (from self.run_monte_carlo)\n",
    "        output : tuple(call_expectations, put_expectations)\n",
    "          call_expectations in a numpy array of shape (timesteps, )\n",
    "          put_expectations in a numpy array of shape (timesteps, )\n",
    "        \"\"\"\n",
    "\n",
    "        option_prices = self.run_monte_carlo(mc_mode=\"options\")\n",
    "        return option_prices"
   ]
  },
  {
   "cell_type": "code",
   "execution_count": 5,
   "metadata": {},
   "outputs": [
    {
     "data": {
      "text/plain": [
       "num_trials 8388608\n",
       "time_steps 365\n",
       "mu         0.0001\n",
       "sigma      0.025\n",
       "initial_price 90\n",
       "strike     120\n",
       "rfr        0.0\n",
       "verbose    False\n",
       "seed       1\n",
       "results    None\n",
       "ver        0.1\n",
       "block_size 1024\n",
       "mode       cuda\n",
       "device     0\n",
       "mc_so_path /home/dvanstee/projects/2021-03-montecarlo/nbs/mc_option.so\n",
       "cfg        <__main__._McSettings object at 0x2b5e584c5b40>"
      ]
     },
     "execution_count": 5,
     "metadata": {},
     "output_type": "execute_result"
    }
   ],
   "source": [
    "mc_option = OptionCuda(num_trials=2**23,time_steps=365,strike=120,initial_price=90,rfr=0.00)\n",
    "mc_option.seed=1\n",
    "mc_option"
   ]
  },
  {
   "cell_type": "code",
   "execution_count": null,
   "metadata": {},
   "outputs": [],
   "source": [
    "with Timer(name=\"Time Cuda\"):\n",
    "    option_prices = mc_option.get_option_expectation()\n",
    "    \n"
   ]
  },
  {
   "cell_type": "code",
   "execution_count": null,
   "metadata": {},
   "outputs": [],
   "source": [
    "#option_prices.shape"
   ]
  },
  {
   "cell_type": "code",
   "execution_count": null,
   "metadata": {},
   "outputs": [],
   "source": [
    "# Call / Put\n",
    "try :\n",
    "    assert option_prices[0].shape==(mc_option.time_steps,)\n",
    "    assert option_prices[1].shape==(mc_option.time_steps,)\n",
    "except :\n",
    "    print(f\"{option_prices[0].shape} {mc_option.time_steps} \")\n",
    "    print(f\"{option_prices[1].shape} {mc_option.time_steps} \")"
   ]
  },
  {
   "cell_type": "markdown",
   "metadata": {},
   "source": [
    "# Visualize Some Results"
   ]
  },
  {
   "cell_type": "code",
   "execution_count": null,
   "metadata": {},
   "outputs": [],
   "source": [
    "# plot_return_cdf(returns[128],returns[251],n_bins=33, labels=['day129','day252'])"
   ]
  },
  {
   "cell_type": "code",
   "execution_count": null,
   "metadata": {},
   "outputs": [],
   "source": [
    "# plot_trajectories(returns)"
   ]
  },
  {
   "cell_type": "code",
   "execution_count": null,
   "metadata": {},
   "outputs": [],
   "source": [
    "# get_return_percentiles(returns)"
   ]
  },
  {
   "cell_type": "code",
   "execution_count": null,
   "metadata": {},
   "outputs": [],
   "source": [
    "plot_option_over_time(option_prices[0],title=\"Call Option Price vs Days to Expirations\")\n",
    "plot_option_over_time(option_prices[1],title=\"Put Option Price vs Days to Expirations\")"
   ]
  },
  {
   "cell_type": "code",
   "execution_count": null,
   "metadata": {},
   "outputs": [],
   "source": [
    "from nbdev.export import notebook2script; notebook2script()"
   ]
  }
 ],
 "metadata": {
  "kernelspec": {
   "display_name": "Python 3",
   "language": "python",
   "name": "python3"
  },
  "language_info": {
   "codemirror_mode": {
    "name": "ipython",
    "version": 3
   },
   "file_extension": ".py",
   "mimetype": "text/x-python",
   "name": "python",
   "nbconvert_exporter": "python",
   "pygments_lexer": "ipython3",
   "version": "3.8.5"
  }
 },
 "nbformat": 4,
 "nbformat_minor": 4
}
