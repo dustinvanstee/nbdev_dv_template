{
 "cells": [
  {
   "cell_type": "code",
   "execution_count": null,
   "metadata": {},
   "outputs": [],
   "source": [
    "# default_exp main_notebook"
   ]
  },
  {
   "cell_type": "markdown",
   "metadata": {},
   "source": [
    "# Main\n",
    "\n",
    ">  Add some stuff here ...\n"
   ]
  },
  {
   "cell_type": "code",
   "execution_count": 36,
   "metadata": {},
   "outputs": [
    {
     "name": "stdout",
     "output_type": "stream",
     "text": [
      "The autoreload extension is already loaded. To reload it, use:\n",
      "  %reload_ext autoreload\n"
     ]
    }
   ],
   "source": [
    "#hide\n",
    "from nbdev.showdoc import *\n",
    "def generate_python():\n",
    "    from nbdev.export import notebook2script; notebook2script()\n",
    "    \n",
    "%load_ext autoreload\n",
    "%autoreload 2"
   ]
  },
  {
   "cell_type": "code",
   "execution_count": 37,
   "metadata": {},
   "outputs": [
    {
     "name": "stdout",
     "output_type": "stream",
     "text": [
      "In Notebooke mode\n"
     ]
    }
   ],
   "source": [
    "# export\n",
    "# Setup in notebook flag.  Useful when you export code and have some situations where you dont want certain part of code run like visulaizations..\n",
    "# Or in this example, when you run as python, the relative path changes for your library ..\n",
    "\n",
    "import sys,os\n",
    "try: from nbdev.imports import IN_NOTEBOOK\n",
    "except: IN_NOTEBOOK=False\n",
    "\n",
    "if IN_NOTEBOOK :\n",
    "    print(\"In Notebooke mode\")\n",
    "    import my_python_code.library_notebook as funcs\n",
    "\n",
    "else :\n",
    "    print(\"Running in batch mode\")\n",
    "    import library_notebook as funcs\n"
   ]
  },
  {
   "cell_type": "code",
   "execution_count": 38,
   "metadata": {},
   "outputs": [],
   "source": [
    "#export\n"
   ]
  },
  {
   "cell_type": "code",
   "execution_count": 39,
   "metadata": {},
   "outputs": [
    {
     "name": "stdout",
     "output_type": "stream",
     "text": [
      "you just ran a function in library_notebook.py.  You passed Test\n"
     ]
    }
   ],
   "source": [
    "funcs.hello_world(\"Test\")"
   ]
  },
  {
   "cell_type": "code",
   "execution_count": 40,
   "metadata": {},
   "outputs": [
    {
     "name": "stdout",
     "output_type": "stream",
     "text": [
      "IN_NOTEBOOK = True\n"
     ]
    }
   ],
   "source": [
    "# export\n",
    "print(f\"IN_NOTEBOOK = {IN_NOTEBOOK}\")"
   ]
  },
  {
   "cell_type": "code",
   "execution_count": 41,
   "metadata": {},
   "outputs": [
    {
     "name": "stdout",
     "output_type": "stream",
     "text": [
      "Converted 00_funcs.ipynb.\n",
      "Converted 01_main.ipynb.\n"
     ]
    }
   ],
   "source": [
    "generate_python()"
   ]
  },
  {
   "cell_type": "code",
   "execution_count": 42,
   "metadata": {},
   "outputs": [
    {
     "name": "stdout",
     "output_type": "stream",
     "text": [
      "[main 71fe712] update from main.ipynb\n",
      " 2 files changed, 30 insertions(+), 26 deletions(-)\n"
     ]
    }
   ],
   "source": [
    "! git commit -am \"update from main.ipynb\""
   ]
  },
  {
   "cell_type": "code",
   "execution_count": 43,
   "metadata": {},
   "outputs": [
    {
     "name": "stdout",
     "output_type": "stream",
     "text": [
      "Warning: Permanently added the RSA host key for IP address '140.82.114.3' to the list of known hosts.\n",
      "Enumerating objects: 9, done.\n",
      "Counting objects: 100% (9/9), done.\n",
      "Delta compression using up to 4 threads\n",
      "Compressing objects: 100% (5/5), done.\n",
      "Writing objects: 100% (5/5), 970 bytes | 970.00 KiB/s, done.\n",
      "Total 5 (delta 4), reused 0 (delta 0)\n",
      "remote: Resolving deltas: 100% (4/4), completed with 4 local objects.\u001b[K\n",
      "To github.com:dustinvanstee/nbdev_dv_template.git\n",
      "   0e9a9cd..71fe712  main -> main\n"
     ]
    }
   ],
   "source": [
    "! git push origin main"
   ]
  },
  {
   "cell_type": "code",
   "execution_count": 44,
   "metadata": {},
   "outputs": [
    {
     "name": "stdout",
     "output_type": "stream",
     "text": [
      "Running in batch mode\n",
      "IN_NOTEBOOK = False\n"
     ]
    }
   ],
   "source": [
    "! python my_python_code/main_notebook.py"
   ]
  },
  {
   "cell_type": "code",
   "execution_count": null,
   "metadata": {},
   "outputs": [],
   "source": []
  }
 ],
 "metadata": {
  "kernelspec": {
   "display_name": "Python 3",
   "language": "python",
   "name": "python3"
  },
  "language_info": {
   "codemirror_mode": {
    "name": "ipython",
    "version": 3
   },
   "file_extension": ".py",
   "mimetype": "text/x-python",
   "name": "python",
   "nbconvert_exporter": "python",
   "pygments_lexer": "ipython3",
   "version": "3.8.5"
  }
 },
 "nbformat": 4,
 "nbformat_minor": 4
}
